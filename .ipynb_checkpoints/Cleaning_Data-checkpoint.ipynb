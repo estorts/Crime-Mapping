{
 "cells": [
  {
   "cell_type": "markdown",
   "metadata": {},
   "source": [
    "# This program downloads the cleans Milwaukee Crime data for the purposes of displaying it on a map. Link to data: https://data.milwaukee.gov/dataset/wibr"
   ]
  },
  {
   "cell_type": "code",
   "execution_count": 79,
   "metadata": {},
   "outputs": [],
   "source": [
    "import pandas as pd\n",
    "import numpy as np\n",
    "import boto3 \n",
    "data_link = 'https://data.milwaukee.gov/dataset/e5feaad3-ee73-418c-b65d-ef810c199390/resource/87843297-a6fa-46d4-ba5d-cb342fb2d3bb/download/wibr.csv'\n",
    "crime = pd.read_csv(data_link)\n",
    "s3 = boto3.client('s3')"
   ]
  },
  {
   "cell_type": "code",
   "execution_count": 80,
   "metadata": {},
   "outputs": [
    {
     "data": {
      "text/html": [
       "<div>\n",
       "<style scoped>\n",
       "    .dataframe tbody tr th:only-of-type {\n",
       "        vertical-align: middle;\n",
       "    }\n",
       "\n",
       "    .dataframe tbody tr th {\n",
       "        vertical-align: top;\n",
       "    }\n",
       "\n",
       "    .dataframe thead th {\n",
       "        text-align: right;\n",
       "    }\n",
       "</style>\n",
       "<table border=\"1\" class=\"dataframe\">\n",
       "  <thead>\n",
       "    <tr style=\"text-align: right;\">\n",
       "      <th></th>\n",
       "      <th>IncidentNum</th>\n",
       "      <th>ReportedDateTime</th>\n",
       "      <th>ReportedYear</th>\n",
       "      <th>ReportedMonth</th>\n",
       "      <th>Location</th>\n",
       "      <th>WeaponUsed</th>\n",
       "      <th>ALD</th>\n",
       "      <th>NSP</th>\n",
       "      <th>POLICE</th>\n",
       "      <th>TRACT</th>\n",
       "      <th>...</th>\n",
       "      <th>Arson</th>\n",
       "      <th>AssaultOffense</th>\n",
       "      <th>Burglary</th>\n",
       "      <th>CriminalDamage</th>\n",
       "      <th>Homicide</th>\n",
       "      <th>LockedVehicle</th>\n",
       "      <th>Robbery</th>\n",
       "      <th>SexOffense</th>\n",
       "      <th>Theft</th>\n",
       "      <th>VehicleTheft</th>\n",
       "    </tr>\n",
       "  </thead>\n",
       "  <tbody>\n",
       "    <tr>\n",
       "      <th>0</th>\n",
       "      <td>191830044</td>\n",
       "      <td>2019-07-02 07:30:00</td>\n",
       "      <td>2019</td>\n",
       "      <td>7</td>\n",
       "      <td>1311 W MADISON ST</td>\n",
       "      <td>OTHER</td>\n",
       "      <td>12.0</td>\n",
       "      <td>16.0</td>\n",
       "      <td>2.0</td>\n",
       "      <td>16400.0</td>\n",
       "      <td>...</td>\n",
       "      <td>0</td>\n",
       "      <td>1</td>\n",
       "      <td>0</td>\n",
       "      <td>0</td>\n",
       "      <td>0</td>\n",
       "      <td>0</td>\n",
       "      <td>0</td>\n",
       "      <td>0</td>\n",
       "      <td>0</td>\n",
       "      <td>0</td>\n",
       "    </tr>\n",
       "    <tr>\n",
       "      <th>1</th>\n",
       "      <td>191830035</td>\n",
       "      <td>2019-07-02 05:40:00</td>\n",
       "      <td>2019</td>\n",
       "      <td>7</td>\n",
       "      <td>5228 W CENTER ST</td>\n",
       "      <td>NaN</td>\n",
       "      <td>10.0</td>\n",
       "      <td>5.0</td>\n",
       "      <td>7.0</td>\n",
       "      <td>5900.0</td>\n",
       "      <td>...</td>\n",
       "      <td>0</td>\n",
       "      <td>1</td>\n",
       "      <td>0</td>\n",
       "      <td>0</td>\n",
       "      <td>0</td>\n",
       "      <td>0</td>\n",
       "      <td>0</td>\n",
       "      <td>0</td>\n",
       "      <td>0</td>\n",
       "      <td>0</td>\n",
       "    </tr>\n",
       "    <tr>\n",
       "      <th>2</th>\n",
       "      <td>191830032</td>\n",
       "      <td>2019-07-02 04:40:00</td>\n",
       "      <td>2019</td>\n",
       "      <td>7</td>\n",
       "      <td>3607 W MT VERNON AV</td>\n",
       "      <td>NaN</td>\n",
       "      <td>10.0</td>\n",
       "      <td>14.0</td>\n",
       "      <td>3.0</td>\n",
       "      <td>13300.0</td>\n",
       "      <td>...</td>\n",
       "      <td>0</td>\n",
       "      <td>1</td>\n",
       "      <td>0</td>\n",
       "      <td>0</td>\n",
       "      <td>0</td>\n",
       "      <td>0</td>\n",
       "      <td>0</td>\n",
       "      <td>0</td>\n",
       "      <td>0</td>\n",
       "      <td>0</td>\n",
       "    </tr>\n",
       "    <tr>\n",
       "      <th>3</th>\n",
       "      <td>191830027</td>\n",
       "      <td>2019-07-02 03:22:00</td>\n",
       "      <td>2019</td>\n",
       "      <td>7</td>\n",
       "      <td>170 S 1ST ST</td>\n",
       "      <td>NaN</td>\n",
       "      <td>12.0</td>\n",
       "      <td>NaN</td>\n",
       "      <td>1.0</td>\n",
       "      <td>187400.0</td>\n",
       "      <td>...</td>\n",
       "      <td>0</td>\n",
       "      <td>0</td>\n",
       "      <td>1</td>\n",
       "      <td>0</td>\n",
       "      <td>0</td>\n",
       "      <td>0</td>\n",
       "      <td>0</td>\n",
       "      <td>0</td>\n",
       "      <td>0</td>\n",
       "      <td>0</td>\n",
       "    </tr>\n",
       "    <tr>\n",
       "      <th>4</th>\n",
       "      <td>191830016</td>\n",
       "      <td>2019-07-02 01:34:00</td>\n",
       "      <td>2019</td>\n",
       "      <td>7</td>\n",
       "      <td>3607 W MT VERNON AV</td>\n",
       "      <td>PERSONAL WEAPON</td>\n",
       "      <td>10.0</td>\n",
       "      <td>14.0</td>\n",
       "      <td>3.0</td>\n",
       "      <td>13300.0</td>\n",
       "      <td>...</td>\n",
       "      <td>0</td>\n",
       "      <td>1</td>\n",
       "      <td>0</td>\n",
       "      <td>0</td>\n",
       "      <td>0</td>\n",
       "      <td>0</td>\n",
       "      <td>0</td>\n",
       "      <td>0</td>\n",
       "      <td>0</td>\n",
       "      <td>0</td>\n",
       "    </tr>\n",
       "  </tbody>\n",
       "</table>\n",
       "<p>5 rows × 24 columns</p>\n",
       "</div>"
      ],
      "text/plain": [
       "   IncidentNum     ReportedDateTime  ReportedYear  ReportedMonth  \\\n",
       "0    191830044  2019-07-02 07:30:00          2019              7   \n",
       "1    191830035  2019-07-02 05:40:00          2019              7   \n",
       "2    191830032  2019-07-02 04:40:00          2019              7   \n",
       "3    191830027  2019-07-02 03:22:00          2019              7   \n",
       "4    191830016  2019-07-02 01:34:00          2019              7   \n",
       "\n",
       "              Location       WeaponUsed   ALD   NSP  POLICE     TRACT  ...  \\\n",
       "0    1311 W MADISON ST            OTHER  12.0  16.0     2.0   16400.0  ...   \n",
       "1     5228 W CENTER ST              NaN  10.0   5.0     7.0    5900.0  ...   \n",
       "2  3607 W MT VERNON AV              NaN  10.0  14.0     3.0   13300.0  ...   \n",
       "3         170 S 1ST ST              NaN  12.0   NaN     1.0  187400.0  ...   \n",
       "4  3607 W MT VERNON AV  PERSONAL WEAPON  10.0  14.0     3.0   13300.0  ...   \n",
       "\n",
       "   Arson  AssaultOffense  Burglary  CriminalDamage  Homicide  LockedVehicle  \\\n",
       "0      0               1         0               0         0              0   \n",
       "1      0               1         0               0         0              0   \n",
       "2      0               1         0               0         0              0   \n",
       "3      0               0         1               0         0              0   \n",
       "4      0               1         0               0         0              0   \n",
       "\n",
       "   Robbery  SexOffense  Theft  VehicleTheft  \n",
       "0        0           0      0             0  \n",
       "1        0           0      0             0  \n",
       "2        0           0      0             0  \n",
       "3        0           0      0             0  \n",
       "4        0           0      0             0  \n",
       "\n",
       "[5 rows x 24 columns]"
      ]
     },
     "execution_count": 80,
     "metadata": {},
     "output_type": "execute_result"
    }
   ],
   "source": [
    "crime.head()"
   ]
  },
  {
   "cell_type": "code",
   "execution_count": 81,
   "metadata": {},
   "outputs": [
    {
     "data": {
      "text/plain": [
       "False"
      ]
     },
     "execution_count": 81,
     "metadata": {},
     "output_type": "execute_result"
    }
   ],
   "source": [
    "#check to see if the 'IncidentNum' is a unique ID\n",
    "len(crime) == len(np.unique(crime['IncidentNum']))"
   ]
  },
  {
   "cell_type": "code",
   "execution_count": 82,
   "metadata": {
    "scrolled": true
   },
   "outputs": [
    {
     "name": "stdout",
     "output_type": "stream",
     "text": [
      "['IncidentNum', 'ReportedDateTime', 'ReportedYear', 'ReportedMonth', 'Location', 'WeaponUsed', 'ALD', 'NSP', 'POLICE', 'TRACT', 'WARD', 'ZIP', 'RoughX', 'RoughY', 'Arson', 'AssaultOffense', 'Burglary', 'CriminalDamage', 'Homicide', 'LockedVehicle', 'Robbery', 'SexOffense', 'Theft', 'VehicleTheft']\n"
     ]
    }
   ],
   "source": [
    "print(list(crime))"
   ]
  },
  {
   "cell_type": "code",
   "execution_count": 83,
   "metadata": {},
   "outputs": [],
   "source": [
    "just_crimes = crime[['Arson', 'AssaultOffense', 'Burglary', 'CriminalDamage', \n",
    "                 'Homicide', 'LockedVehicle', 'Robbery', 'SexOffense', 'Theft', 'VehicleTheft']]\n",
    "just_crimes = pd.DataFrame({'Crime Type': just_crimes.idxmax(axis=1)})"
   ]
  },
  {
   "cell_type": "code",
   "execution_count": 84,
   "metadata": {},
   "outputs": [],
   "source": [
    "crimes_info = crime[['IncidentNum', 'ReportedDateTime', 'Location', 'WeaponUsed',\n",
    "                    'ALD', 'POLICE', 'TRACT', 'WARD', 'ZIP']]\n",
    "new_crimes = crimes_info.join(just_crimes)"
   ]
  },
  {
   "cell_type": "code",
   "execution_count": 85,
   "metadata": {},
   "outputs": [
    {
     "data": {
      "text/html": [
       "<div>\n",
       "<style scoped>\n",
       "    .dataframe tbody tr th:only-of-type {\n",
       "        vertical-align: middle;\n",
       "    }\n",
       "\n",
       "    .dataframe tbody tr th {\n",
       "        vertical-align: top;\n",
       "    }\n",
       "\n",
       "    .dataframe thead th {\n",
       "        text-align: right;\n",
       "    }\n",
       "</style>\n",
       "<table border=\"1\" class=\"dataframe\">\n",
       "  <thead>\n",
       "    <tr style=\"text-align: right;\">\n",
       "      <th></th>\n",
       "      <th>IncidentNum</th>\n",
       "      <th>ReportedDateTime</th>\n",
       "      <th>Location</th>\n",
       "      <th>WeaponUsed</th>\n",
       "      <th>ALD</th>\n",
       "      <th>POLICE</th>\n",
       "      <th>TRACT</th>\n",
       "      <th>WARD</th>\n",
       "      <th>ZIP</th>\n",
       "      <th>Crime Type</th>\n",
       "    </tr>\n",
       "  </thead>\n",
       "  <tbody>\n",
       "    <tr>\n",
       "      <th>0</th>\n",
       "      <td>191830044</td>\n",
       "      <td>2019-07-02 07:30:00</td>\n",
       "      <td>1311 W MADISON ST</td>\n",
       "      <td>OTHER</td>\n",
       "      <td>12.0</td>\n",
       "      <td>2.0</td>\n",
       "      <td>16400.0</td>\n",
       "      <td>232.0</td>\n",
       "      <td>53204.0</td>\n",
       "      <td>AssaultOffense</td>\n",
       "    </tr>\n",
       "    <tr>\n",
       "      <th>1</th>\n",
       "      <td>191830035</td>\n",
       "      <td>2019-07-02 05:40:00</td>\n",
       "      <td>5228 W CENTER ST</td>\n",
       "      <td>NaN</td>\n",
       "      <td>10.0</td>\n",
       "      <td>7.0</td>\n",
       "      <td>5900.0</td>\n",
       "      <td>163.0</td>\n",
       "      <td>53210.0</td>\n",
       "      <td>AssaultOffense</td>\n",
       "    </tr>\n",
       "    <tr>\n",
       "      <th>2</th>\n",
       "      <td>191830032</td>\n",
       "      <td>2019-07-02 04:40:00</td>\n",
       "      <td>3607 W MT VERNON AV</td>\n",
       "      <td>NaN</td>\n",
       "      <td>10.0</td>\n",
       "      <td>3.0</td>\n",
       "      <td>13300.0</td>\n",
       "      <td>214.0</td>\n",
       "      <td>53208.0</td>\n",
       "      <td>AssaultOffense</td>\n",
       "    </tr>\n",
       "    <tr>\n",
       "      <th>3</th>\n",
       "      <td>191830027</td>\n",
       "      <td>2019-07-02 03:22:00</td>\n",
       "      <td>170 S 1ST ST</td>\n",
       "      <td>NaN</td>\n",
       "      <td>12.0</td>\n",
       "      <td>1.0</td>\n",
       "      <td>187400.0</td>\n",
       "      <td>235.0</td>\n",
       "      <td>53204.0</td>\n",
       "      <td>Burglary</td>\n",
       "    </tr>\n",
       "    <tr>\n",
       "      <th>4</th>\n",
       "      <td>191830016</td>\n",
       "      <td>2019-07-02 01:34:00</td>\n",
       "      <td>3607 W MT VERNON AV</td>\n",
       "      <td>PERSONAL WEAPON</td>\n",
       "      <td>10.0</td>\n",
       "      <td>3.0</td>\n",
       "      <td>13300.0</td>\n",
       "      <td>214.0</td>\n",
       "      <td>53208.0</td>\n",
       "      <td>AssaultOffense</td>\n",
       "    </tr>\n",
       "  </tbody>\n",
       "</table>\n",
       "</div>"
      ],
      "text/plain": [
       "   IncidentNum     ReportedDateTime             Location       WeaponUsed  \\\n",
       "0    191830044  2019-07-02 07:30:00    1311 W MADISON ST            OTHER   \n",
       "1    191830035  2019-07-02 05:40:00     5228 W CENTER ST              NaN   \n",
       "2    191830032  2019-07-02 04:40:00  3607 W MT VERNON AV              NaN   \n",
       "3    191830027  2019-07-02 03:22:00         170 S 1ST ST              NaN   \n",
       "4    191830016  2019-07-02 01:34:00  3607 W MT VERNON AV  PERSONAL WEAPON   \n",
       "\n",
       "    ALD  POLICE     TRACT   WARD      ZIP      Crime Type  \n",
       "0  12.0     2.0   16400.0  232.0  53204.0  AssaultOffense  \n",
       "1  10.0     7.0    5900.0  163.0  53210.0  AssaultOffense  \n",
       "2  10.0     3.0   13300.0  214.0  53208.0  AssaultOffense  \n",
       "3  12.0     1.0  187400.0  235.0  53204.0        Burglary  \n",
       "4  10.0     3.0   13300.0  214.0  53208.0  AssaultOffense  "
      ]
     },
     "execution_count": 85,
     "metadata": {},
     "output_type": "execute_result"
    }
   ],
   "source": [
    "new_crimes.head()"
   ]
  },
  {
   "cell_type": "code",
   "execution_count": 86,
   "metadata": {},
   "outputs": [],
   "source": [
    "#adding other geographical information to help with mapping later\n",
    "new_crimes['City'] = 'Milwaukee'\n",
    "new_crimes['State'] = 'WI'"
   ]
  },
  {
   "cell_type": "code",
   "execution_count": 87,
   "metadata": {},
   "outputs": [],
   "source": [
    "#replace NaN with 'None'\n",
    "new_crimes = new_crimes.fillna('None')"
   ]
  },
  {
   "cell_type": "code",
   "execution_count": 88,
   "metadata": {},
   "outputs": [],
   "source": [
    "#upload file to S3 bucket\n",
    "new_crimes.to_csv('mke_crime_data.csv')\n",
    "s3.upload_file('mke_crime_data.csv', 'crime-mapping', 'mke_crime_data.csv')"
   ]
  },
  {
   "cell_type": "code",
   "execution_count": 78,
   "metadata": {},
   "outputs": [
    {
     "name": "stdout",
     "output_type": "stream",
     "text": [
      "None\n"
     ]
    }
   ],
   "source": []
  },
  {
   "cell_type": "code",
   "execution_count": null,
   "metadata": {},
   "outputs": [],
   "source": []
  }
 ],
 "metadata": {
  "kernelspec": {
   "display_name": "Python 3",
   "language": "python",
   "name": "python3"
  },
  "language_info": {
   "codemirror_mode": {
    "name": "ipython",
    "version": 3
   },
   "file_extension": ".py",
   "mimetype": "text/x-python",
   "name": "python",
   "nbconvert_exporter": "python",
   "pygments_lexer": "ipython3",
   "version": "3.7.3"
  }
 },
 "nbformat": 4,
 "nbformat_minor": 2
}
